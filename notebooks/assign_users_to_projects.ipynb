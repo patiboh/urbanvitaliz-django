{
 "cells": [
  {
   "cell_type": "markdown",
   "id": "432d7f87",
   "metadata": {},
   "source": [
    "# Assigner des utilisateurs à des projets"
   ]
  },
  {
   "cell_type": "code",
   "execution_count": 5,
   "id": "62bf921f",
   "metadata": {},
   "outputs": [],
   "source": [
    "from django.db.models import Model\n",
    "import os\n",
    "os.environ[\"DJANGO_ALLOW_ASYNC_UNSAFE\"] = \"true\" # Pas besoin en dehors de Jupyter"
   ]
  },
  {
   "cell_type": "code",
   "execution_count": 27,
   "id": "c4de63ee",
   "metadata": {},
   "outputs": [
    {
     "name": "stdout",
     "output_type": "stream",
     "text": [
      "raphael\n",
      "ORIOLLES - Site AGS\n",
      "urbanvitaliz.fr\n"
     ]
    }
   ],
   "source": [
    "# coding: utf-8\n",
    "from django.contrib.auth.models import User\n",
    "from urbanvitaliz.apps.projects.models import Project\n",
    "from django.contrib.sites.models import Site\n",
    "\n",
    "\n",
    "user = User.objects.first()\n",
    "print(user)\n",
    "\n",
    "project = Project.objects.get(pk=20)\n",
    "print(project)\n",
    "\n",
    "site = Site.objects.get_current()\n",
    "print(site)\n"
   ]
  },
  {
   "cell_type": "code",
   "execution_count": 21,
   "id": "63bc06c0",
   "metadata": {},
   "outputs": [
    {
     "name": "stdout",
     "output_type": "stream",
     "text": [
      "\n",
      "    Make someone becomes a project advisor\n",
      "    FIXME site is not honored by \"assign_perm\".\n",
      "    \n"
     ]
    }
   ],
   "source": [
    "\n",
    "from urbanvitaliz.apps.projects.utils import assign_collaborator, assign_advisor, assign_observer\n",
    "\n",
    "print(assign_advisor.__doc__)\n",
    "\n"
   ]
  },
  {
   "cell_type": "code",
   "execution_count": 28,
   "id": "f0a87895",
   "metadata": {},
   "outputs": [
    {
     "data": {
      "text/plain": [
       "False"
      ]
     },
     "execution_count": 28,
     "metadata": {},
     "output_type": "execute_result"
    }
   ],
   "source": [
    "assign_collaborator?\n",
    "\n",
    "# Assigner un utilisateur sur un projet\n",
    "assign_collaborator(user, project, is_owner=False)"
   ]
  },
  {
   "cell_type": "code",
   "execution_count": 31,
   "id": "3ce6076b",
   "metadata": {},
   "outputs": [
    {
     "data": {
      "text/plain": [
       "False"
      ]
     },
     "execution_count": 31,
     "metadata": {},
     "output_type": "execute_result"
    }
   ],
   "source": [
    "# Assigner des conseillers et observateurs\n",
    "assign_advisor?\n",
    "\n",
    "assign_advisor(user, project, current_site)\n",
    "\n",
    "# et observateurs\n",
    "assign_observer(user, project, current_site)"
   ]
  },
  {
   "cell_type": "code",
   "execution_count": null,
   "id": "7557e0ec",
   "metadata": {},
   "outputs": [],
   "source": []
  }
 ],
 "metadata": {
  "kernelspec": {
   "display_name": "Django Shell-Plus",
   "language": "python",
   "name": "django_extensions"
  },
  "language_info": {
   "codemirror_mode": {
    "name": "ipython",
    "version": 3
   },
   "file_extension": ".py",
   "mimetype": "text/x-python",
   "name": "python",
   "nbconvert_exporter": "python",
   "pygments_lexer": "ipython3",
   "version": "3.10.4"
  }
 },
 "nbformat": 4,
 "nbformat_minor": 5
}
